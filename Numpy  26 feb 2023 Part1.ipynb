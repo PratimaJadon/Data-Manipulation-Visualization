{
 "cells": [
  {
   "cell_type": "markdown",
   "id": "2d43cc73",
   "metadata": {},
   "source": [
    "Numpy is a general-purpose array-processing package. It provides a high-performance multidimensional array object, and tools for working with these arrays. It is the fundamental package for scientific computing with Python."
   ]
  },
  {
   "cell_type": "code",
   "execution_count": 1,
   "id": "0472b5d2",
   "metadata": {},
   "outputs": [],
   "source": [
    "import numpy as np"
   ]
  },
  {
   "cell_type": "code",
   "execution_count": 3,
   "id": "78044d03",
   "metadata": {},
   "outputs": [
    {
     "data": {
      "text/plain": [
       "[1, 2, 3, 4]"
      ]
     },
     "execution_count": 3,
     "metadata": {},
     "output_type": "execute_result"
    }
   ],
   "source": [
    "l = [1,2,3,4]\n",
    "l"
   ]
  },
  {
   "cell_type": "code",
   "execution_count": 5,
   "id": "91b3e2ac",
   "metadata": {},
   "outputs": [
    {
     "data": {
      "text/plain": [
       "array([1, 2, 3, 4])"
      ]
     },
     "execution_count": 5,
     "metadata": {},
     "output_type": "execute_result"
    }
   ],
   "source": [
    "ar = np.array(l)\n",
    "ar"
   ]
  },
  {
   "cell_type": "code",
   "execution_count": 6,
   "id": "1bd5e093",
   "metadata": {},
   "outputs": [
    {
     "data": {
      "text/plain": [
       "numpy.ndarray"
      ]
     },
     "execution_count": 6,
     "metadata": {},
     "output_type": "execute_result"
    }
   ],
   "source": [
    "type(ar)  # n dimensional array"
   ]
  },
  {
   "cell_type": "code",
   "execution_count": 3,
   "id": "3a62841a",
   "metadata": {},
   "outputs": [
    {
     "data": {
      "text/plain": [
       "array([[1, 2],\n",
       "       [2, 3]])"
      ]
     },
     "execution_count": 3,
     "metadata": {},
     "output_type": "execute_result"
    }
   ],
   "source": [
    "import numpy as np\n",
    "np.array([[1,2],[2,3]])\n"
   ]
  },
  {
   "cell_type": "code",
   "execution_count": 9,
   "id": "9ed4766f",
   "metadata": {},
   "outputs": [
    {
     "data": {
      "text/plain": [
       "array([[1, 2, 3],\n",
       "       [4, 5, 6],\n",
       "       [7, 8, 9]])"
      ]
     },
     "execution_count": 9,
     "metadata": {},
     "output_type": "execute_result"
    }
   ],
   "source": [
    "l =np.array([[1,2,3],[4,5,6],[7,8,9]])\n",
    "l"
   ]
  },
  {
   "cell_type": "code",
   "execution_count": 8,
   "id": "568825dc",
   "metadata": {},
   "outputs": [
    {
     "data": {
      "text/plain": [
       "array([[1, 2, 3],\n",
       "       [4, 5, 6],\n",
       "       [7, 8, 9]])"
      ]
     },
     "execution_count": 8,
     "metadata": {},
     "output_type": "execute_result"
    }
   ],
   "source": [
    "np.asarray(l)"
   ]
  },
  {
   "cell_type": "code",
   "execution_count": 10,
   "id": "d233adf1",
   "metadata": {},
   "outputs": [
    {
     "data": {
      "text/plain": [
       "array([[1, 2, 3],\n",
       "       [4, 5, 6],\n",
       "       [7, 8, 9]])"
      ]
     },
     "execution_count": 10,
     "metadata": {},
     "output_type": "execute_result"
    }
   ],
   "source": [
    "np.asanyarray(l)"
   ]
  },
  {
   "cell_type": "code",
   "execution_count": 12,
   "id": "e681f6b2",
   "metadata": {},
   "outputs": [
    {
     "data": {
      "text/plain": [
       "matrix([[1, 2, 3],\n",
       "        [4, 5, 6],\n",
       "        [7, 8, 9]])"
      ]
     },
     "execution_count": 12,
     "metadata": {},
     "output_type": "execute_result"
    }
   ],
   "source": [
    "b = np.matrix(l)   # matrix is 2D\n",
    "b"
   ]
  },
  {
   "cell_type": "code",
   "execution_count": 14,
   "id": "635f3c67",
   "metadata": {},
   "outputs": [
    {
     "data": {
      "text/plain": [
       "array([1, 2, 5, 6])"
      ]
     },
     "execution_count": 14,
     "metadata": {},
     "output_type": "execute_result"
    }
   ],
   "source": [
    "L2 = [1,2,5,6]\n",
    "a = np.asanyarray(L2)\n",
    "a"
   ]
  },
  {
   "cell_type": "code",
   "execution_count": 16,
   "id": "fe9ca720",
   "metadata": {},
   "outputs": [
    {
     "data": {
      "text/plain": [
       "array([1, 2, 5, 6])"
      ]
     },
     "execution_count": 16,
     "metadata": {},
     "output_type": "execute_result"
    }
   ],
   "source": [
    "c = a\n",
    "c"
   ]
  },
  {
   "cell_type": "code",
   "execution_count": 19,
   "id": "42189f77",
   "metadata": {},
   "outputs": [
    {
     "data": {
      "text/plain": [
       "array([90,  2,  5,  6])"
      ]
     },
     "execution_count": 19,
     "metadata": {},
     "output_type": "execute_result"
    }
   ],
   "source": [
    "c[0] = 90\n",
    "c"
   ]
  },
  {
   "cell_type": "code",
   "execution_count": 20,
   "id": "a9a094b7",
   "metadata": {},
   "outputs": [
    {
     "data": {
      "text/plain": [
       "90"
      ]
     },
     "execution_count": 20,
     "metadata": {},
     "output_type": "execute_result"
    }
   ],
   "source": [
    "a[0] # changes in c are done in a     by reference # SWALLOW COPY"
   ]
  },
  {
   "cell_type": "code",
   "execution_count": 21,
   "id": "d6c478aa",
   "metadata": {},
   "outputs": [],
   "source": [
    "# DEEP COPY  - here no changes in previous variable\n",
    "d = np.copy(a)"
   ]
  },
  {
   "cell_type": "code",
   "execution_count": 23,
   "id": "5bf93b1a",
   "metadata": {},
   "outputs": [],
   "source": [
    "d[0] = 8"
   ]
  },
  {
   "cell_type": "code",
   "execution_count": 24,
   "id": "b72dba75",
   "metadata": {},
   "outputs": [
    {
     "data": {
      "text/plain": [
       "90"
      ]
     },
     "execution_count": 24,
     "metadata": {},
     "output_type": "execute_result"
    }
   ],
   "source": [
    "a[0]   "
   ]
  },
  {
   "cell_type": "code",
   "execution_count": 26,
   "id": "ea9d5d05",
   "metadata": {},
   "outputs": [
    {
     "data": {
      "text/plain": [
       "array([[ True, False, False],\n",
       "       [False,  True, False],\n",
       "       [False, False,  True]])"
      ]
     },
     "execution_count": 26,
     "metadata": {},
     "output_type": "execute_result"
    }
   ],
   "source": [
    "#fromfunction - it works on condition given\n",
    "np.fromfunction(lambda i,j : i==j,(3,3))"
   ]
  },
  {
   "cell_type": "code",
   "execution_count": 27,
   "id": "0c290198",
   "metadata": {},
   "outputs": [
    {
     "data": {
      "text/plain": [
       "array([[0., 0., 0.],\n",
       "       [0., 1., 2.],\n",
       "       [0., 2., 4.]])"
      ]
     },
     "execution_count": 27,
     "metadata": {},
     "output_type": "execute_result"
    }
   ],
   "source": [
    "np.fromfunction(lambda i,j : i*j,(3,3))"
   ]
  },
  {
   "cell_type": "code",
   "execution_count": 31,
   "id": "5a91496c",
   "metadata": {},
   "outputs": [
    {
     "data": {
      "text/plain": [
       "<generator object <genexpr> at 0x0000022D70DCA180>"
      ]
     },
     "execution_count": 31,
     "metadata": {},
     "output_type": "execute_result"
    }
   ],
   "source": [
    " iterable = (i*i for i in range(5))\n",
    "iterable "
   ]
  },
  {
   "cell_type": "code",
   "execution_count": 32,
   "id": "b84544ca",
   "metadata": {},
   "outputs": [
    {
     "data": {
      "text/plain": [
       "array([ 0.,  1.,  4.,  9., 16.])"
      ]
     },
     "execution_count": 32,
     "metadata": {},
     "output_type": "execute_result"
    }
   ],
   "source": [
    "np.fromiter( iterable , float)"
   ]
  },
  {
   "cell_type": "code",
   "execution_count": 36,
   "id": "4bf04054",
   "metadata": {},
   "outputs": [
    {
     "data": {
      "text/plain": [
       "array([234., 234.])"
      ]
     },
     "execution_count": 36,
     "metadata": {},
     "output_type": "execute_result"
    }
   ],
   "source": [
    "np.fromstring(' 234 234  ',sep = ' ')"
   ]
  },
  {
   "cell_type": "code",
   "execution_count": 37,
   "id": "b850a9ec",
   "metadata": {},
   "outputs": [
    {
     "data": {
      "text/plain": [
       "array([234., 234.,  90.,  89.])"
      ]
     },
     "execution_count": 37,
     "metadata": {},
     "output_type": "execute_result"
    }
   ],
   "source": [
    "np.fromstring(' 234, 234 ,90,89  ',sep = ' ,')"
   ]
  },
  {
   "cell_type": "code",
   "execution_count": 38,
   "id": "3c89a2b4",
   "metadata": {},
   "outputs": [],
   "source": [
    "# datatypes  in Numpy \n",
    "l = [9,8,7,6]\n",
    "ar = np.asarray(l)"
   ]
  },
  {
   "cell_type": "code",
   "execution_count": 39,
   "id": "eec8a7d8",
   "metadata": {},
   "outputs": [
    {
     "data": {
      "text/plain": [
       "array([9, 8, 7, 6])"
      ]
     },
     "execution_count": 39,
     "metadata": {},
     "output_type": "execute_result"
    }
   ],
   "source": [
    "ar"
   ]
  },
  {
   "cell_type": "code",
   "execution_count": 40,
   "id": "d2f89508",
   "metadata": {},
   "outputs": [
    {
     "data": {
      "text/plain": [
       "1"
      ]
     },
     "execution_count": 40,
     "metadata": {},
     "output_type": "execute_result"
    }
   ],
   "source": [
    "ar.ndim  # n dimensional  ndim "
   ]
  },
  {
   "cell_type": "code",
   "execution_count": 41,
   "id": "c42edd12",
   "metadata": {},
   "outputs": [
    {
     "data": {
      "text/plain": [
       "2"
      ]
     },
     "execution_count": 41,
     "metadata": {},
     "output_type": "execute_result"
    }
   ],
   "source": [
    "l =np.array([[1,2,3],[4,5,6],[7,8,9]])\n",
    "l.ndim"
   ]
  },
  {
   "cell_type": "code",
   "execution_count": 42,
   "id": "ce4067e5",
   "metadata": {},
   "outputs": [
    {
     "data": {
      "text/plain": [
       "9"
      ]
     },
     "execution_count": 42,
     "metadata": {},
     "output_type": "execute_result"
    }
   ],
   "source": [
    "# arrar size - no. of element in array\n",
    "l.size"
   ]
  },
  {
   "cell_type": "code",
   "execution_count": 43,
   "id": "c46b0c37",
   "metadata": {},
   "outputs": [
    {
     "data": {
      "text/plain": [
       "(4,)"
      ]
     },
     "execution_count": 43,
     "metadata": {},
     "output_type": "execute_result"
    }
   ],
   "source": [
    "ar.shape"
   ]
  },
  {
   "cell_type": "code",
   "execution_count": 45,
   "id": "727dab69",
   "metadata": {},
   "outputs": [
    {
     "data": {
      "text/plain": [
       "dtype('int32')"
      ]
     },
     "execution_count": 45,
     "metadata": {},
     "output_type": "execute_result"
    }
   ],
   "source": [
    "# datatype\n",
    "ar.dtype"
   ]
  },
  {
   "cell_type": "code",
   "execution_count": 48,
   "id": "1b7349f9",
   "metadata": {},
   "outputs": [
    {
     "data": {
      "text/plain": [
       "array([[1. , 7. , 8. , 9.8],\n",
       "       [0.9, 8. , 8. , 9. ]])"
      ]
     },
     "execution_count": 48,
     "metadata": {},
     "output_type": "execute_result"
    }
   ],
   "source": [
    " ar29 = np.array([(1,7,8,9.8),(0.9,8,8,9)])\n",
    "ar29"
   ]
  },
  {
   "cell_type": "code",
   "execution_count": 52,
   "id": "cacd2558",
   "metadata": {},
   "outputs": [
    {
     "data": {
      "text/plain": [
       "dtype('float64')"
      ]
     },
     "execution_count": 52,
     "metadata": {},
     "output_type": "execute_result"
    }
   ],
   "source": [
    "ar29.dtype\n"
   ]
  },
  {
   "cell_type": "code",
   "execution_count": 53,
   "id": "3b315a0b",
   "metadata": {},
   "outputs": [
    {
     "data": {
      "text/plain": [
       "8"
      ]
     },
     "execution_count": 53,
     "metadata": {},
     "output_type": "execute_result"
    }
   ],
   "source": [
    "ar29.size\n"
   ]
  },
  {
   "cell_type": "code",
   "execution_count": 54,
   "id": "62fb347a",
   "metadata": {},
   "outputs": [
    {
     "data": {
      "text/plain": [
       "(2, 4)"
      ]
     },
     "execution_count": 54,
     "metadata": {},
     "output_type": "execute_result"
    }
   ],
   "source": [
    "ar29.shape"
   ]
  },
  {
   "cell_type": "code",
   "execution_count": 55,
   "id": "36e0ec0c",
   "metadata": {},
   "outputs": [
    {
     "data": {
      "text/plain": [
       "[0, 1, 2, 3, 4, 5, 6, 7, 8]"
      ]
     },
     "execution_count": 55,
     "metadata": {},
     "output_type": "execute_result"
    }
   ],
   "source": [
    "# range function \n",
    "list(range(9))"
   ]
  },
  {
   "cell_type": "code",
   "execution_count": 57,
   "id": "00ae32b0",
   "metadata": {},
   "outputs": [],
   "source": [
    "# it can take float  value\n",
    "#list(range(9.9))    use arange function"
   ]
  },
  {
   "cell_type": "code",
   "execution_count": 58,
   "id": "25b7ec31",
   "metadata": {},
   "outputs": [
    {
     "data": {
      "text/plain": [
       "array([2.6])"
      ]
     },
     "execution_count": 58,
     "metadata": {},
     "output_type": "execute_result"
    }
   ],
   "source": [
    "np.arange(2.6,5,9)"
   ]
  },
  {
   "cell_type": "code",
   "execution_count": 62,
   "id": "25f66267",
   "metadata": {},
   "outputs": [
    {
     "data": {
      "text/plain": [
       "[2.6,\n",
       " 2.9,\n",
       " 3.1999999999999997,\n",
       " 3.4999999999999996,\n",
       " 3.7999999999999994,\n",
       " 4.1,\n",
       " 4.399999999999999]"
      ]
     },
     "execution_count": 62,
     "metadata": {},
     "output_type": "execute_result"
    }
   ],
   "source": [
    "list(np.arange(2.6,4.5,.3))"
   ]
  },
  {
   "cell_type": "code",
   "execution_count": 63,
   "id": "5cb11aac",
   "metadata": {},
   "outputs": [
    {
     "data": {
      "text/plain": [
       "array([1.        , 1.44444444, 1.88888889, 2.33333333, 2.77777778,\n",
       "       3.22222222, 3.66666667, 4.11111111, 4.55555556, 5.        ])"
      ]
     },
     "execution_count": 63,
     "metadata": {},
     "output_type": "execute_result"
    }
   ],
   "source": [
    "np.linspace(1,5,10)  # 10 data produces - 10 equal data "
   ]
  },
  {
   "cell_type": "code",
   "execution_count": 65,
   "id": "64d7b39c",
   "metadata": {},
   "outputs": [
    {
     "data": {
      "text/plain": [
       "array([0., 0., 0., 0., 0., 0., 0., 0.])"
      ]
     },
     "execution_count": 65,
     "metadata": {},
     "output_type": "execute_result"
    }
   ],
   "source": [
    "np.zeros(8)"
   ]
  },
  {
   "cell_type": "code",
   "execution_count": 67,
   "id": "fa07ce1b",
   "metadata": {},
   "outputs": [
    {
     "data": {
      "text/plain": [
       "array([[0., 0., 0., 0.],\n",
       "       [0., 0., 0., 0.],\n",
       "       [0., 0., 0., 0.]])"
      ]
     },
     "execution_count": 67,
     "metadata": {},
     "output_type": "execute_result"
    }
   ],
   "source": [
    "np.zeros((3,4))"
   ]
  },
  {
   "cell_type": "code",
   "execution_count": 3,
   "id": "8f779ffe",
   "metadata": {},
   "outputs": [
    {
     "data": {
      "text/plain": [
       "array([[[0., 0., 0.],\n",
       "        [0., 0., 0.],\n",
       "        [0., 0., 0.]],\n",
       "\n",
       "       [[0., 0., 0.],\n",
       "        [0., 0., 0.],\n",
       "        [0., 0., 0.]]])"
      ]
     },
     "execution_count": 3,
     "metadata": {},
     "output_type": "execute_result"
    }
   ],
   "source": [
    "import numpy as np\n",
    "np.zeros((2,3,3)) # 3D data "
   ]
  },
  {
   "cell_type": "code",
   "execution_count": 8,
   "id": "36634a6c",
   "metadata": {},
   "outputs": [
    {
     "data": {
      "text/plain": [
       "array([[1., 1., 1.],\n",
       "       [1., 1., 1.]])"
      ]
     },
     "execution_count": 8,
     "metadata": {},
     "output_type": "execute_result"
    }
   ],
   "source": [
    " a = np.ones((2,3)) # matrix  with value 1\n",
    "a"
   ]
  },
  {
   "cell_type": "code",
   "execution_count": 9,
   "id": "10332c3c",
   "metadata": {},
   "outputs": [
    {
     "data": {
      "text/plain": [
       "array([[6., 6., 6.],\n",
       "       [6., 6., 6.]])"
      ]
     },
     "execution_count": 9,
     "metadata": {},
     "output_type": "execute_result"
    }
   ],
   "source": [
    "a+5"
   ]
  },
  {
   "cell_type": "code",
   "execution_count": 10,
   "id": "11102199",
   "metadata": {},
   "outputs": [
    {
     "data": {
      "text/plain": [
       "array([[4., 4., 4.],\n",
       "       [4., 4., 4.]])"
      ]
     },
     "execution_count": 10,
     "metadata": {},
     "output_type": "execute_result"
    }
   ],
   "source": [
    "a*4"
   ]
  },
  {
   "cell_type": "code",
   "execution_count": 12,
   "id": "fedcdebc",
   "metadata": {},
   "outputs": [
    {
     "data": {
      "text/plain": [
       "array([[1.01855798e-312, 1.08221785e-312, 1.01855798e-312,\n",
       "        9.54898106e-313],\n",
       "       [1.03977794e-312, 1.03977794e-312, 1.23075756e-312,\n",
       "        1.10343781e-312],\n",
       "       [1.10343781e-312, 9.76118064e-313, 1.14587773e-312,\n",
       "        1.90979621e-312]])"
      ]
     },
     "execution_count": 12,
     "metadata": {},
     "output_type": "execute_result"
    }
   ],
   "source": [
    "np.empty((3,4))"
   ]
  },
  {
   "cell_type": "code",
   "execution_count": 13,
   "id": "e299f537",
   "metadata": {},
   "outputs": [
    {
     "data": {
      "text/plain": [
       "array([[1., 0., 0., 0.],\n",
       "       [0., 1., 0., 0.],\n",
       "       [0., 0., 1., 0.],\n",
       "       [0., 0., 0., 1.]])"
      ]
     },
     "execution_count": 13,
     "metadata": {},
     "output_type": "execute_result"
    }
   ],
   "source": [
    "# eye function - for identity matrix\n",
    "np.eye(4)"
   ]
  },
  {
   "cell_type": "code",
   "execution_count": 14,
   "id": "0f283216",
   "metadata": {},
   "outputs": [
    {
     "data": {
      "text/plain": [
       "array([2.        , 2.07142857, 2.14285714, 2.21428571, 2.28571429,\n",
       "       2.35714286, 2.42857143, 2.5       , 2.57142857, 2.64285714,\n",
       "       2.71428571, 2.78571429, 2.85714286, 2.92857143, 3.        ,\n",
       "       3.07142857, 3.14285714, 3.21428571, 3.28571429, 3.35714286,\n",
       "       3.42857143, 3.5       , 3.57142857, 3.64285714, 3.71428571,\n",
       "       3.78571429, 3.85714286, 3.92857143, 4.        ])"
      ]
     },
     "execution_count": 14,
     "metadata": {},
     "output_type": "execute_result"
    }
   ],
   "source": [
    "np.linspace(2,4,29)"
   ]
  },
  {
   "cell_type": "code",
   "execution_count": 16,
   "id": "e1607a9c",
   "metadata": {},
   "outputs": [
    {
     "data": {
      "text/plain": [
       "array([   100.        ,    215.443469  ,    464.15888336,   1000.        ,\n",
       "         2154.43469003,   4641.58883361,  10000.        ,  21544.34690032,\n",
       "        46415.88833613, 100000.        ])"
      ]
     },
     "execution_count": 16,
     "metadata": {},
     "output_type": "execute_result"
    }
   ],
   "source": [
    "# logspace\n",
    "np.logspace(2,5,10) # it finds log values of linspace function with log base 10"
   ]
  },
  {
   "cell_type": "code",
   "execution_count": 17,
   "id": "144b866e",
   "metadata": {},
   "outputs": [
    {
     "data": {
      "text/plain": [
       "array([ 4.        ,  5.0396842 ,  6.34960421,  8.        , 10.0793684 ,\n",
       "       12.69920842, 16.        , 20.1587368 , 25.39841683, 32.        ])"
      ]
     },
     "execution_count": 17,
     "metadata": {},
     "output_type": "execute_result"
    }
   ],
   "source": [
    "np.logspace(2,5,10,base=2)"
   ]
  },
  {
   "cell_type": "code",
   "execution_count": 22,
   "id": "f87d0706",
   "metadata": {},
   "outputs": [
    {
     "data": {
      "text/plain": [
       "array([[0.79971593, 2.00597202]])"
      ]
     },
     "execution_count": 22,
     "metadata": {},
     "output_type": "execute_result"
    }
   ],
   "source": [
    "# random data   it generates data as mean = 0,std =1 standarad normal distribution\n",
    "arr = np.random.randn(1,2)   \n",
    "arr"
   ]
  },
  {
   "cell_type": "code",
   "execution_count": 21,
   "id": "9c8c4b71",
   "metadata": {},
   "outputs": [
    {
     "data": {
      "text/html": [
       "<div>\n",
       "<style scoped>\n",
       "    .dataframe tbody tr th:only-of-type {\n",
       "        vertical-align: middle;\n",
       "    }\n",
       "\n",
       "    .dataframe tbody tr th {\n",
       "        vertical-align: top;\n",
       "    }\n",
       "\n",
       "    .dataframe thead th {\n",
       "        text-align: right;\n",
       "    }\n",
       "</style>\n",
       "<table border=\"1\" class=\"dataframe\">\n",
       "  <thead>\n",
       "    <tr style=\"text-align: right;\">\n",
       "      <th></th>\n",
       "      <th>0</th>\n",
       "      <th>1</th>\n",
       "    </tr>\n",
       "  </thead>\n",
       "  <tbody>\n",
       "    <tr>\n",
       "      <th>0</th>\n",
       "      <td>-1.507369</td>\n",
       "      <td>0.735599</td>\n",
       "    </tr>\n",
       "  </tbody>\n",
       "</table>\n",
       "</div>"
      ],
      "text/plain": [
       "          0         1\n",
       "0 -1.507369  0.735599"
      ]
     },
     "execution_count": 21,
     "metadata": {},
     "output_type": "execute_result"
    }
   ],
   "source": [
    "import pandas as pd\n",
    "df = pd.DataFrame(arr)\n",
    "df"
   ]
  },
  {
   "cell_type": "code",
   "execution_count": 24,
   "id": "f4405fa5",
   "metadata": {},
   "outputs": [
    {
     "data": {
      "text/html": [
       "<div>\n",
       "<style scoped>\n",
       "    .dataframe tbody tr th:only-of-type {\n",
       "        vertical-align: middle;\n",
       "    }\n",
       "\n",
       "    .dataframe tbody tr th {\n",
       "        vertical-align: top;\n",
       "    }\n",
       "\n",
       "    .dataframe thead th {\n",
       "        text-align: right;\n",
       "    }\n",
       "</style>\n",
       "<table border=\"1\" class=\"dataframe\">\n",
       "  <thead>\n",
       "    <tr style=\"text-align: right;\">\n",
       "      <th></th>\n",
       "      <th>0</th>\n",
       "      <th>1</th>\n",
       "    </tr>\n",
       "  </thead>\n",
       "  <tbody>\n",
       "    <tr>\n",
       "      <th>count</th>\n",
       "      <td>1.000000</td>\n",
       "      <td>1.000000</td>\n",
       "    </tr>\n",
       "    <tr>\n",
       "      <th>mean</th>\n",
       "      <td>-1.507369</td>\n",
       "      <td>0.735599</td>\n",
       "    </tr>\n",
       "    <tr>\n",
       "      <th>std</th>\n",
       "      <td>NaN</td>\n",
       "      <td>NaN</td>\n",
       "    </tr>\n",
       "    <tr>\n",
       "      <th>min</th>\n",
       "      <td>-1.507369</td>\n",
       "      <td>0.735599</td>\n",
       "    </tr>\n",
       "    <tr>\n",
       "      <th>25%</th>\n",
       "      <td>-1.507369</td>\n",
       "      <td>0.735599</td>\n",
       "    </tr>\n",
       "    <tr>\n",
       "      <th>50%</th>\n",
       "      <td>-1.507369</td>\n",
       "      <td>0.735599</td>\n",
       "    </tr>\n",
       "    <tr>\n",
       "      <th>75%</th>\n",
       "      <td>-1.507369</td>\n",
       "      <td>0.735599</td>\n",
       "    </tr>\n",
       "    <tr>\n",
       "      <th>max</th>\n",
       "      <td>-1.507369</td>\n",
       "      <td>0.735599</td>\n",
       "    </tr>\n",
       "  </tbody>\n",
       "</table>\n",
       "</div>"
      ],
      "text/plain": [
       "              0         1\n",
       "count  1.000000  1.000000\n",
       "mean  -1.507369  0.735599\n",
       "std         NaN       NaN\n",
       "min   -1.507369  0.735599\n",
       "25%   -1.507369  0.735599\n",
       "50%   -1.507369  0.735599\n",
       "75%   -1.507369  0.735599\n",
       "max   -1.507369  0.735599"
      ]
     },
     "execution_count": 24,
     "metadata": {},
     "output_type": "execute_result"
    }
   ],
   "source": [
    "df.describe()"
   ]
  },
  {
   "cell_type": "code",
   "execution_count": 25,
   "id": "a683f868",
   "metadata": {},
   "outputs": [
    {
     "data": {
      "text/plain": [
       "array([[99, 73, 87, 87],\n",
       "       [42, 74, 90, 88],\n",
       "       [14, 99, 18, 52]])"
      ]
     },
     "execution_count": 25,
     "metadata": {},
     "output_type": "execute_result"
    }
   ],
   "source": [
    "np.random.randint(1,110,(3,4)) # 3x4 matrix "
   ]
  },
  {
   "cell_type": "code",
   "execution_count": 26,
   "id": "ccb94137",
   "metadata": {},
   "outputs": [
    {
     "data": {
      "text/plain": [
       "array([[0.20280798, 0.5488453 , 0.53189007, 0.41237007],\n",
       "       [0.20678287, 0.99809272, 0.29974544, 0.9790855 ],\n",
       "       [0.08043803, 0.42370971, 0.34152486, 0.868007  ]])"
      ]
     },
     "execution_count": 26,
     "metadata": {},
     "output_type": "execute_result"
    }
   ],
   "source": [
    "np.random.rand(3,4)"
   ]
  },
  {
   "cell_type": "code",
   "execution_count": 28,
   "id": "032297b4",
   "metadata": {},
   "outputs": [
    {
     "data": {
      "text/html": [
       "<div>\n",
       "<style scoped>\n",
       "    .dataframe tbody tr th:only-of-type {\n",
       "        vertical-align: middle;\n",
       "    }\n",
       "\n",
       "    .dataframe tbody tr th {\n",
       "        vertical-align: top;\n",
       "    }\n",
       "\n",
       "    .dataframe thead th {\n",
       "        text-align: right;\n",
       "    }\n",
       "</style>\n",
       "<table border=\"1\" class=\"dataframe\">\n",
       "  <thead>\n",
       "    <tr style=\"text-align: right;\">\n",
       "      <th></th>\n",
       "      <th>0</th>\n",
       "      <th>1</th>\n",
       "      <th>2</th>\n",
       "      <th>3</th>\n",
       "      <th>4</th>\n",
       "      <th>5</th>\n",
       "      <th>6</th>\n",
       "      <th>7</th>\n",
       "      <th>8</th>\n",
       "      <th>9</th>\n",
       "      <th>...</th>\n",
       "      <th>390</th>\n",
       "      <th>391</th>\n",
       "      <th>392</th>\n",
       "      <th>393</th>\n",
       "      <th>394</th>\n",
       "      <th>395</th>\n",
       "      <th>396</th>\n",
       "      <th>397</th>\n",
       "      <th>398</th>\n",
       "      <th>399</th>\n",
       "    </tr>\n",
       "  </thead>\n",
       "  <tbody>\n",
       "    <tr>\n",
       "      <th>0</th>\n",
       "      <td>71</td>\n",
       "      <td>63</td>\n",
       "      <td>22</td>\n",
       "      <td>29</td>\n",
       "      <td>108</td>\n",
       "      <td>94</td>\n",
       "      <td>103</td>\n",
       "      <td>64</td>\n",
       "      <td>1</td>\n",
       "      <td>8</td>\n",
       "      <td>...</td>\n",
       "      <td>63</td>\n",
       "      <td>24</td>\n",
       "      <td>3</td>\n",
       "      <td>99</td>\n",
       "      <td>29</td>\n",
       "      <td>21</td>\n",
       "      <td>103</td>\n",
       "      <td>75</td>\n",
       "      <td>84</td>\n",
       "      <td>93</td>\n",
       "    </tr>\n",
       "    <tr>\n",
       "      <th>1</th>\n",
       "      <td>72</td>\n",
       "      <td>22</td>\n",
       "      <td>90</td>\n",
       "      <td>17</td>\n",
       "      <td>23</td>\n",
       "      <td>1</td>\n",
       "      <td>88</td>\n",
       "      <td>9</td>\n",
       "      <td>107</td>\n",
       "      <td>19</td>\n",
       "      <td>...</td>\n",
       "      <td>106</td>\n",
       "      <td>50</td>\n",
       "      <td>102</td>\n",
       "      <td>101</td>\n",
       "      <td>36</td>\n",
       "      <td>30</td>\n",
       "      <td>109</td>\n",
       "      <td>89</td>\n",
       "      <td>101</td>\n",
       "      <td>45</td>\n",
       "    </tr>\n",
       "    <tr>\n",
       "      <th>2</th>\n",
       "      <td>4</td>\n",
       "      <td>67</td>\n",
       "      <td>57</td>\n",
       "      <td>7</td>\n",
       "      <td>71</td>\n",
       "      <td>57</td>\n",
       "      <td>54</td>\n",
       "      <td>11</td>\n",
       "      <td>75</td>\n",
       "      <td>35</td>\n",
       "      <td>...</td>\n",
       "      <td>50</td>\n",
       "      <td>94</td>\n",
       "      <td>10</td>\n",
       "      <td>100</td>\n",
       "      <td>76</td>\n",
       "      <td>49</td>\n",
       "      <td>98</td>\n",
       "      <td>87</td>\n",
       "      <td>108</td>\n",
       "      <td>27</td>\n",
       "    </tr>\n",
       "    <tr>\n",
       "      <th>3</th>\n",
       "      <td>56</td>\n",
       "      <td>30</td>\n",
       "      <td>64</td>\n",
       "      <td>16</td>\n",
       "      <td>95</td>\n",
       "      <td>14</td>\n",
       "      <td>70</td>\n",
       "      <td>93</td>\n",
       "      <td>60</td>\n",
       "      <td>38</td>\n",
       "      <td>...</td>\n",
       "      <td>83</td>\n",
       "      <td>4</td>\n",
       "      <td>26</td>\n",
       "      <td>41</td>\n",
       "      <td>84</td>\n",
       "      <td>1</td>\n",
       "      <td>79</td>\n",
       "      <td>86</td>\n",
       "      <td>21</td>\n",
       "      <td>11</td>\n",
       "    </tr>\n",
       "    <tr>\n",
       "      <th>4</th>\n",
       "      <td>47</td>\n",
       "      <td>72</td>\n",
       "      <td>50</td>\n",
       "      <td>20</td>\n",
       "      <td>68</td>\n",
       "      <td>83</td>\n",
       "      <td>10</td>\n",
       "      <td>42</td>\n",
       "      <td>82</td>\n",
       "      <td>74</td>\n",
       "      <td>...</td>\n",
       "      <td>39</td>\n",
       "      <td>105</td>\n",
       "      <td>57</td>\n",
       "      <td>7</td>\n",
       "      <td>107</td>\n",
       "      <td>52</td>\n",
       "      <td>67</td>\n",
       "      <td>42</td>\n",
       "      <td>46</td>\n",
       "      <td>24</td>\n",
       "    </tr>\n",
       "    <tr>\n",
       "      <th>...</th>\n",
       "      <td>...</td>\n",
       "      <td>...</td>\n",
       "      <td>...</td>\n",
       "      <td>...</td>\n",
       "      <td>...</td>\n",
       "      <td>...</td>\n",
       "      <td>...</td>\n",
       "      <td>...</td>\n",
       "      <td>...</td>\n",
       "      <td>...</td>\n",
       "      <td>...</td>\n",
       "      <td>...</td>\n",
       "      <td>...</td>\n",
       "      <td>...</td>\n",
       "      <td>...</td>\n",
       "      <td>...</td>\n",
       "      <td>...</td>\n",
       "      <td>...</td>\n",
       "      <td>...</td>\n",
       "      <td>...</td>\n",
       "      <td>...</td>\n",
       "    </tr>\n",
       "    <tr>\n",
       "      <th>295</th>\n",
       "      <td>28</td>\n",
       "      <td>68</td>\n",
       "      <td>79</td>\n",
       "      <td>78</td>\n",
       "      <td>14</td>\n",
       "      <td>67</td>\n",
       "      <td>6</td>\n",
       "      <td>91</td>\n",
       "      <td>88</td>\n",
       "      <td>87</td>\n",
       "      <td>...</td>\n",
       "      <td>12</td>\n",
       "      <td>67</td>\n",
       "      <td>83</td>\n",
       "      <td>43</td>\n",
       "      <td>36</td>\n",
       "      <td>33</td>\n",
       "      <td>96</td>\n",
       "      <td>13</td>\n",
       "      <td>66</td>\n",
       "      <td>41</td>\n",
       "    </tr>\n",
       "    <tr>\n",
       "      <th>296</th>\n",
       "      <td>54</td>\n",
       "      <td>5</td>\n",
       "      <td>74</td>\n",
       "      <td>107</td>\n",
       "      <td>67</td>\n",
       "      <td>11</td>\n",
       "      <td>35</td>\n",
       "      <td>101</td>\n",
       "      <td>19</td>\n",
       "      <td>44</td>\n",
       "      <td>...</td>\n",
       "      <td>106</td>\n",
       "      <td>26</td>\n",
       "      <td>15</td>\n",
       "      <td>39</td>\n",
       "      <td>19</td>\n",
       "      <td>107</td>\n",
       "      <td>78</td>\n",
       "      <td>4</td>\n",
       "      <td>69</td>\n",
       "      <td>27</td>\n",
       "    </tr>\n",
       "    <tr>\n",
       "      <th>297</th>\n",
       "      <td>84</td>\n",
       "      <td>18</td>\n",
       "      <td>46</td>\n",
       "      <td>32</td>\n",
       "      <td>27</td>\n",
       "      <td>64</td>\n",
       "      <td>27</td>\n",
       "      <td>42</td>\n",
       "      <td>74</td>\n",
       "      <td>70</td>\n",
       "      <td>...</td>\n",
       "      <td>95</td>\n",
       "      <td>88</td>\n",
       "      <td>86</td>\n",
       "      <td>30</td>\n",
       "      <td>109</td>\n",
       "      <td>98</td>\n",
       "      <td>14</td>\n",
       "      <td>95</td>\n",
       "      <td>28</td>\n",
       "      <td>28</td>\n",
       "    </tr>\n",
       "    <tr>\n",
       "      <th>298</th>\n",
       "      <td>74</td>\n",
       "      <td>34</td>\n",
       "      <td>22</td>\n",
       "      <td>9</td>\n",
       "      <td>88</td>\n",
       "      <td>78</td>\n",
       "      <td>108</td>\n",
       "      <td>87</td>\n",
       "      <td>58</td>\n",
       "      <td>55</td>\n",
       "      <td>...</td>\n",
       "      <td>19</td>\n",
       "      <td>16</td>\n",
       "      <td>35</td>\n",
       "      <td>5</td>\n",
       "      <td>1</td>\n",
       "      <td>10</td>\n",
       "      <td>73</td>\n",
       "      <td>79</td>\n",
       "      <td>11</td>\n",
       "      <td>71</td>\n",
       "    </tr>\n",
       "    <tr>\n",
       "      <th>299</th>\n",
       "      <td>29</td>\n",
       "      <td>10</td>\n",
       "      <td>9</td>\n",
       "      <td>77</td>\n",
       "      <td>48</td>\n",
       "      <td>88</td>\n",
       "      <td>103</td>\n",
       "      <td>17</td>\n",
       "      <td>102</td>\n",
       "      <td>7</td>\n",
       "      <td>...</td>\n",
       "      <td>12</td>\n",
       "      <td>68</td>\n",
       "      <td>103</td>\n",
       "      <td>38</td>\n",
       "      <td>109</td>\n",
       "      <td>52</td>\n",
       "      <td>91</td>\n",
       "      <td>96</td>\n",
       "      <td>4</td>\n",
       "      <td>75</td>\n",
       "    </tr>\n",
       "  </tbody>\n",
       "</table>\n",
       "<p>300 rows × 400 columns</p>\n",
       "</div>"
      ],
      "text/plain": [
       "     0    1    2    3    4    5    6    7    8    9    ...  390  391  392  \\\n",
       "0     71   63   22   29  108   94  103   64    1    8  ...   63   24    3   \n",
       "1     72   22   90   17   23    1   88    9  107   19  ...  106   50  102   \n",
       "2      4   67   57    7   71   57   54   11   75   35  ...   50   94   10   \n",
       "3     56   30   64   16   95   14   70   93   60   38  ...   83    4   26   \n",
       "4     47   72   50   20   68   83   10   42   82   74  ...   39  105   57   \n",
       "..   ...  ...  ...  ...  ...  ...  ...  ...  ...  ...  ...  ...  ...  ...   \n",
       "295   28   68   79   78   14   67    6   91   88   87  ...   12   67   83   \n",
       "296   54    5   74  107   67   11   35  101   19   44  ...  106   26   15   \n",
       "297   84   18   46   32   27   64   27   42   74   70  ...   95   88   86   \n",
       "298   74   34   22    9   88   78  108   87   58   55  ...   19   16   35   \n",
       "299   29   10    9   77   48   88  103   17  102    7  ...   12   68  103   \n",
       "\n",
       "     393  394  395  396  397  398  399  \n",
       "0     99   29   21  103   75   84   93  \n",
       "1    101   36   30  109   89  101   45  \n",
       "2    100   76   49   98   87  108   27  \n",
       "3     41   84    1   79   86   21   11  \n",
       "4      7  107   52   67   42   46   24  \n",
       "..   ...  ...  ...  ...  ...  ...  ...  \n",
       "295   43   36   33   96   13   66   41  \n",
       "296   39   19  107   78    4   69   27  \n",
       "297   30  109   98   14   95   28   28  \n",
       "298    5    1   10   73   79   11   71  \n",
       "299   38  109   52   91   96    4   75  \n",
       "\n",
       "[300 rows x 400 columns]"
      ]
     },
     "execution_count": 28,
     "metadata": {},
     "output_type": "execute_result"
    }
   ],
   "source": [
    "# make a dataframe of random values of 300x400\n",
    "np.random.randint(1,110,(300,400))\n",
    "pd.DataFrame(np.random.randint(1,110,(300,400)))"
   ]
  },
  {
   "cell_type": "code",
   "execution_count": 31,
   "id": "9abaf8c5",
   "metadata": {},
   "outputs": [],
   "source": [
    " data = pd.DataFrame(np.random.randint(1,110,(300,400))).to_csv(\"test.csv\")\n",
    "data\n",
    "# store random data in csv file"
   ]
  },
  {
   "cell_type": "code",
   "execution_count": 33,
   "id": "002803a0",
   "metadata": {},
   "outputs": [
    {
     "data": {
      "text/plain": [
       "array([[0.8213046 , 0.01957481, 0.91409121, 0.6089611 ],\n",
       "       [0.8797892 , 0.92090926, 0.92640334, 0.25565143],\n",
       "       [0.41797738, 0.07546659, 0.29971439, 0.19844363]])"
      ]
     },
     "execution_count": 33,
     "metadata": {},
     "output_type": "execute_result"
    }
   ],
   "source": [
    "arr = np.random.rand(3,4)\n",
    "arr"
   ]
  },
  {
   "cell_type": "code",
   "execution_count": 35,
   "id": "ef3acf91",
   "metadata": {},
   "outputs": [
    {
     "data": {
      "text/plain": [
       "array([[0.8213046 , 0.01957481],\n",
       "       [0.91409121, 0.6089611 ],\n",
       "       [0.8797892 , 0.92090926],\n",
       "       [0.92640334, 0.25565143],\n",
       "       [0.41797738, 0.07546659],\n",
       "       [0.29971439, 0.19844363]])"
      ]
     },
     "execution_count": 35,
     "metadata": {},
     "output_type": "execute_result"
    }
   ],
   "source": [
    "arr.reshape(6,2)  # size of data = to reshape parameter\n",
    "# arr.reshape(6,3)      xxxxxxxxxxxxxxxx"
   ]
  },
  {
   "cell_type": "code",
   "execution_count": 44,
   "id": "16691438",
   "metadata": {},
   "outputs": [
    {
     "data": {
      "text/plain": [
       "array([[0.8213046 , 0.01957481],\n",
       "       [0.91409121, 0.6089611 ],\n",
       "       [0.8797892 , 0.92090926],\n",
       "       [0.92640334, 0.25565143],\n",
       "       [0.41797738, 0.07546659],\n",
       "       [0.29971439, 0.19844363]])"
      ]
     },
     "execution_count": 44,
     "metadata": {},
     "output_type": "execute_result"
    }
   ],
   "source": [
    "arr.reshape(6,2)"
   ]
  },
  {
   "cell_type": "code",
   "execution_count": 42,
   "id": "a4c5ad73",
   "metadata": {},
   "outputs": [
    {
     "data": {
      "text/plain": [
       "array([[0.8213046 , 0.01957481, 0.91409121],\n",
       "       [0.6089611 , 0.8797892 , 0.92090926],\n",
       "       [0.92640334, 0.25565143, 0.41797738],\n",
       "       [0.07546659, 0.29971439, 0.19844363]])"
      ]
     },
     "execution_count": 42,
     "metadata": {},
     "output_type": "execute_result"
    }
   ],
   "source": [
    "arr1 = arr.reshape(4,-133)\n",
    "arr1"
   ]
  },
  {
   "cell_type": "code",
   "execution_count": 45,
   "id": "c82e026f",
   "metadata": {},
   "outputs": [
    {
     "data": {
      "text/plain": [
       "array([0.6089611 , 0.8797892 , 0.92090926])"
      ]
     },
     "execution_count": 45,
     "metadata": {},
     "output_type": "execute_result"
    }
   ],
   "source": [
    "arr1[1]"
   ]
  },
  {
   "cell_type": "code",
   "execution_count": 46,
   "id": "46a3fe74",
   "metadata": {},
   "outputs": [
    {
     "data": {
      "text/plain": [
       "0.8797892016299976"
      ]
     },
     "execution_count": 46,
     "metadata": {},
     "output_type": "execute_result"
    }
   ],
   "source": [
    "arr1[1][1]  # indexing operation"
   ]
  },
  {
   "cell_type": "code",
   "execution_count": 49,
   "id": "6d799e7a",
   "metadata": {},
   "outputs": [
    {
     "data": {
      "text/plain": [
       "array([0.25565143, 0.29971439])"
      ]
     },
     "execution_count": 49,
     "metadata": {},
     "output_type": "execute_result"
    }
   ],
   "source": [
    "arr1[2:5 ,1]"
   ]
  },
  {
   "cell_type": "code",
   "execution_count": 56,
   "id": "0107e0e3",
   "metadata": {},
   "outputs": [
    {
     "data": {
      "text/plain": [
       "array([[90, 70, 78, 11, 90],\n",
       "       [92, 99, 43, 29, 95],\n",
       "       [73, 12,  7, 60, 77],\n",
       "       [61, 90,  3, 60, 55],\n",
       "       [35, 53, 96, 64, 18]])"
      ]
     },
     "execution_count": 56,
     "metadata": {},
     "output_type": "execute_result"
    }
   ],
   "source": [
    " x = np.random.randint(1,100,(5,5))\n",
    "x"
   ]
  },
  {
   "cell_type": "code",
   "execution_count": 57,
   "id": "e2ade07d",
   "metadata": {},
   "outputs": [
    {
     "data": {
      "text/plain": [
       "array([[ True,  True,  True, False,  True],\n",
       "       [ True,  True, False, False,  True],\n",
       "       [ True, False, False,  True,  True],\n",
       "       [ True,  True, False,  True,  True],\n",
       "       [False,  True,  True,  True, False]])"
      ]
     },
     "execution_count": 57,
     "metadata": {},
     "output_type": "execute_result"
    }
   ],
   "source": [
    "# data>50 \n",
    "x>50"
   ]
  },
  {
   "cell_type": "code",
   "execution_count": 59,
   "id": "42766139",
   "metadata": {},
   "outputs": [
    {
     "data": {
      "text/plain": [
       "array([[90, 70, 78, 11, 90],\n",
       "       [92, 99, 43, 29, 95],\n",
       "       [73, 12,  7, 60, 77],\n",
       "       [61, 90,  3, 60, 55],\n",
       "       [35, 53, 96, 64, 18]])"
      ]
     },
     "execution_count": 59,
     "metadata": {},
     "output_type": "execute_result"
    }
   ],
   "source": [
    "x"
   ]
  },
  {
   "cell_type": "code",
   "execution_count": 61,
   "id": "50569898",
   "metadata": {},
   "outputs": [
    {
     "data": {
      "text/plain": [
       "array([[12,  7],\n",
       "       [90,  3]])"
      ]
     },
     "execution_count": 61,
     "metadata": {},
     "output_type": "execute_result"
    }
   ],
   "source": [
    "x[2:4,[1,2]]"
   ]
  },
  {
   "cell_type": "code",
   "execution_count": 62,
   "id": "5321ff98",
   "metadata": {},
   "outputs": [
    {
     "data": {
      "text/plain": [
       "90"
      ]
     },
     "execution_count": 62,
     "metadata": {},
     "output_type": "execute_result"
    }
   ],
   "source": [
    "x[0][0]"
   ]
  },
  {
   "cell_type": "code",
   "execution_count": 68,
   "id": "62480183",
   "metadata": {},
   "outputs": [],
   "source": [
    "array1 =np.random.randint(1,3,(3,3))\n"
   ]
  },
  {
   "cell_type": "code",
   "execution_count": 69,
   "id": "70bf8e29",
   "metadata": {},
   "outputs": [
    {
     "data": {
      "text/plain": [
       "array([[2, 2, 2],\n",
       "       [1, 1, 1],\n",
       "       [2, 2, 2]])"
      ]
     },
     "execution_count": 69,
     "metadata": {},
     "output_type": "execute_result"
    }
   ],
   "source": [
    "array1"
   ]
  },
  {
   "cell_type": "code",
   "execution_count": 74,
   "id": "bd9b8035",
   "metadata": {},
   "outputs": [
    {
     "data": {
      "text/plain": [
       "array([[2, 1, 2],\n",
       "       [2, 2, 1],\n",
       "       [1, 1, 1]])"
      ]
     },
     "execution_count": 74,
     "metadata": {},
     "output_type": "execute_result"
    }
   ],
   "source": [
    "array2 =np.random.randint(1,3,(3,3))\n",
    "array2"
   ]
  },
  {
   "cell_type": "code",
   "execution_count": 75,
   "id": "3b19d14e",
   "metadata": {},
   "outputs": [
    {
     "data": {
      "text/plain": [
       "array([[4, 3, 4],\n",
       "       [3, 3, 2],\n",
       "       [3, 3, 3]])"
      ]
     },
     "execution_count": 75,
     "metadata": {},
     "output_type": "execute_result"
    }
   ],
   "source": [
    "# sum of two data   index to index mapping \n",
    "array1+array2"
   ]
  },
  {
   "cell_type": "code",
   "execution_count": 76,
   "id": "bddf6197",
   "metadata": {},
   "outputs": [
    {
     "data": {
      "text/plain": [
       "array([[ 0,  1,  0],\n",
       "       [-1, -1,  0],\n",
       "       [ 1,  1,  1]])"
      ]
     },
     "execution_count": 76,
     "metadata": {},
     "output_type": "execute_result"
    }
   ],
   "source": [
    "array1-array2"
   ]
  },
  {
   "cell_type": "code",
   "execution_count": 77,
   "id": "7dd91114",
   "metadata": {},
   "outputs": [
    {
     "data": {
      "text/plain": [
       "array([[4, 2, 4],\n",
       "       [2, 2, 1],\n",
       "       [2, 2, 2]])"
      ]
     },
     "execution_count": 77,
     "metadata": {},
     "output_type": "execute_result"
    }
   ],
   "source": [
    "array1*array2  # it is not matrix muliplication - it is index multiplication"
   ]
  },
  {
   "cell_type": "code",
   "execution_count": 81,
   "id": "29a56c06",
   "metadata": {},
   "outputs": [
    {
     "data": {
      "text/plain": [
       "array([[10,  8,  8],\n",
       "       [ 5,  4,  4],\n",
       "       [10,  8,  8]])"
      ]
     },
     "execution_count": 81,
     "metadata": {},
     "output_type": "execute_result"
    }
   ],
   "source": [
    "# matrix multiplication\n",
    "array1@array2"
   ]
  },
  {
   "cell_type": "code",
   "execution_count": 78,
   "id": "ec3142ea",
   "metadata": {
    "scrolled": true
   },
   "outputs": [
    {
     "data": {
      "text/plain": [
       "array([[1. , 2. , 1. ],\n",
       "       [0.5, 0.5, 1. ],\n",
       "       [2. , 2. , 2. ]])"
      ]
     },
     "execution_count": 78,
     "metadata": {},
     "output_type": "execute_result"
    }
   ],
   "source": [
    "array1/array2"
   ]
  },
  {
   "cell_type": "code",
   "execution_count": 82,
   "id": "69365fa3",
   "metadata": {},
   "outputs": [
    {
     "name": "stderr",
     "output_type": "stream",
     "text": [
      "C:\\Users\\asus\\AppData\\Local\\Temp\\ipykernel_10524\\1510032488.py:1: RuntimeWarning: divide by zero encountered in divide\n",
      "  arr1/0\n"
     ]
    },
    {
     "data": {
      "text/plain": [
       "array([[inf, inf, inf],\n",
       "       [inf, inf, inf],\n",
       "       [inf, inf, inf],\n",
       "       [inf, inf, inf]])"
      ]
     },
     "execution_count": 82,
     "metadata": {},
     "output_type": "execute_result"
    }
   ],
   "source": [
    "arr1/0    # infinite"
   ]
  },
  {
   "cell_type": "code",
   "execution_count": 83,
   "id": "375cda1f",
   "metadata": {},
   "outputs": [
    {
     "data": {
      "text/plain": [
       "array([[102, 102, 102],\n",
       "       [101, 101, 101],\n",
       "       [102, 102, 102]])"
      ]
     },
     "execution_count": 83,
     "metadata": {},
     "output_type": "execute_result"
    }
   ],
   "source": [
    "array1+100"
   ]
  },
  {
   "cell_type": "code",
   "execution_count": 84,
   "id": "7123f862",
   "metadata": {},
   "outputs": [
    {
     "data": {
      "text/plain": [
       "array([[4, 4, 4],\n",
       "       [1, 1, 1],\n",
       "       [4, 4, 4]])"
      ]
     },
     "execution_count": 84,
     "metadata": {},
     "output_type": "execute_result"
    }
   ],
   "source": [
    "array1**2"
   ]
  },
  {
   "cell_type": "markdown",
   "id": "0f70061d",
   "metadata": {},
   "source": [
    "# BROADCASTING"
   ]
  },
  {
   "cell_type": "code",
   "execution_count": 86,
   "id": "b5134968",
   "metadata": {},
   "outputs": [
    {
     "data": {
      "text/plain": [
       "array([[0., 0., 0., 0.],\n",
       "       [0., 0., 0., 0.],\n",
       "       [0., 0., 0., 0.],\n",
       "       [0., 0., 0., 0.]])"
      ]
     },
     "execution_count": 86,
     "metadata": {},
     "output_type": "execute_result"
    }
   ],
   "source": [
    "arr1 = np.zeros((4,4))\n",
    "arr1"
   ]
  },
  {
   "cell_type": "code",
   "execution_count": 87,
   "id": "5cd7517d",
   "metadata": {},
   "outputs": [
    {
     "data": {
      "text/plain": [
       "array([1, 2, 3, 4])"
      ]
     },
     "execution_count": 87,
     "metadata": {},
     "output_type": "execute_result"
    }
   ],
   "source": [
    "row = np.array([1,2,3,4])\n",
    "row"
   ]
  },
  {
   "cell_type": "code",
   "execution_count": 88,
   "id": "c9b2a212",
   "metadata": {},
   "outputs": [
    {
     "data": {
      "text/plain": [
       "array([[1., 2., 3., 4.],\n",
       "       [1., 2., 3., 4.],\n",
       "       [1., 2., 3., 4.],\n",
       "       [1., 2., 3., 4.]])"
      ]
     },
     "execution_count": 88,
     "metadata": {},
     "output_type": "execute_result"
    }
   ],
   "source": [
    "arr1 +row    # row wise broadcasting"
   ]
  },
  {
   "cell_type": "code",
   "execution_count": 90,
   "id": "4e408d49",
   "metadata": {},
   "outputs": [
    {
     "data": {
      "text/plain": [
       "array([1, 2, 3, 4])"
      ]
     },
     "execution_count": 90,
     "metadata": {},
     "output_type": "execute_result"
    }
   ],
   "source": [
    "row.T   # NOT TRANSPOSED"
   ]
  },
  {
   "cell_type": "code",
   "execution_count": 94,
   "id": "c049fa4d",
   "metadata": {},
   "outputs": [],
   "source": [
    "# column wise broadcasting \n",
    "COL  = np.array([[1,2,3,4]])"
   ]
  },
  {
   "cell_type": "code",
   "execution_count": 92,
   "id": "04939c07",
   "metadata": {},
   "outputs": [
    {
     "data": {
      "text/plain": [
       "array([[1],\n",
       "       [2],\n",
       "       [3],\n",
       "       [4]])"
      ]
     },
     "execution_count": 92,
     "metadata": {},
     "output_type": "execute_result"
    }
   ],
   "source": [
    "COL.T"
   ]
  },
  {
   "cell_type": "code",
   "execution_count": 93,
   "id": "d4c9a329",
   "metadata": {},
   "outputs": [
    {
     "data": {
      "text/plain": [
       "array([[2, 3, 4, 5],\n",
       "       [3, 4, 5, 6],\n",
       "       [4, 5, 6, 7],\n",
       "       [5, 6, 7, 8]])"
      ]
     },
     "execution_count": 93,
     "metadata": {},
     "output_type": "execute_result"
    }
   ],
   "source": [
    "COL.T+ row"
   ]
  },
  {
   "cell_type": "code",
   "execution_count": 99,
   "id": "2b95f9fd",
   "metadata": {},
   "outputs": [
    {
     "data": {
      "text/plain": [
       "array([[3, 3, 3, 3],\n",
       "       [3, 2, 1, 2],\n",
       "       [1, 2, 1, 2]])"
      ]
     },
     "execution_count": 99,
     "metadata": {},
     "output_type": "execute_result"
    }
   ],
   "source": [
    " y = np.random.randint(1,4,(3,4))\n",
    "y"
   ]
  },
  {
   "cell_type": "code",
   "execution_count": 100,
   "id": "e512d662",
   "metadata": {},
   "outputs": [
    {
     "data": {
      "text/plain": [
       "array([[1.73205081, 1.73205081, 1.73205081, 1.73205081],\n",
       "       [1.73205081, 1.41421356, 1.        , 1.41421356],\n",
       "       [1.        , 1.41421356, 1.        , 1.41421356]])"
      ]
     },
     "execution_count": 100,
     "metadata": {},
     "output_type": "execute_result"
    }
   ],
   "source": [
    "np.sqrt(y)"
   ]
  },
  {
   "cell_type": "code",
   "execution_count": 101,
   "id": "d4a62048",
   "metadata": {},
   "outputs": [
    {
     "data": {
      "text/plain": [
       "array([[20.08553692, 20.08553692, 20.08553692, 20.08553692],\n",
       "       [20.08553692,  7.3890561 ,  2.71828183,  7.3890561 ],\n",
       "       [ 2.71828183,  7.3890561 ,  2.71828183,  7.3890561 ]])"
      ]
     },
     "execution_count": 101,
     "metadata": {},
     "output_type": "execute_result"
    }
   ],
   "source": [
    "np.exp(y)"
   ]
  },
  {
   "cell_type": "code",
   "execution_count": 102,
   "id": "575d378e",
   "metadata": {},
   "outputs": [
    {
     "data": {
      "text/plain": [
       "array([[0.47712125, 0.47712125, 0.47712125, 0.47712125],\n",
       "       [0.47712125, 0.30103   , 0.        , 0.30103   ],\n",
       "       [0.        , 0.30103   , 0.        , 0.30103   ]])"
      ]
     },
     "execution_count": 102,
     "metadata": {},
     "output_type": "execute_result"
    }
   ],
   "source": [
    "np.log10(y)"
   ]
  },
  {
   "cell_type": "code",
   "execution_count": null,
   "id": "bc676e30",
   "metadata": {},
   "outputs": [],
   "source": []
  }
 ],
 "metadata": {
  "kernelspec": {
   "display_name": "Python 3 (ipykernel)",
   "language": "python",
   "name": "python3"
  },
  "language_info": {
   "codemirror_mode": {
    "name": "ipython",
    "version": 3
   },
   "file_extension": ".py",
   "mimetype": "text/x-python",
   "name": "python",
   "nbconvert_exporter": "python",
   "pygments_lexer": "ipython3",
   "version": "3.10.6"
  }
 },
 "nbformat": 4,
 "nbformat_minor": 5
}
