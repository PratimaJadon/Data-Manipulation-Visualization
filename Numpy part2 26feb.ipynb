{
 "cells": [
  {
   "cell_type": "code",
   "execution_count": 1,
   "id": "fdce21be",
   "metadata": {},
   "outputs": [],
   "source": [
    "import pandas as pd\n",
    "import numpy as np"
   ]
  },
  {
   "cell_type": "code",
   "execution_count": 4,
   "id": "7528926b",
   "metadata": {},
   "outputs": [],
   "source": [
    "array = np.random.randint(1,10,(2,3))\n"
   ]
  },
  {
   "cell_type": "code",
   "execution_count": 5,
   "id": "12876031",
   "metadata": {},
   "outputs": [
    {
     "data": {
      "text/plain": [
       "array([[2, 6, 4],\n",
       "       [8, 2, 9]])"
      ]
     },
     "execution_count": 5,
     "metadata": {},
     "output_type": "execute_result"
    }
   ],
   "source": [
    "array"
   ]
  },
  {
   "cell_type": "code",
   "execution_count": 7,
   "id": "ec3e695b",
   "metadata": {},
   "outputs": [
    {
     "data": {
      "text/plain": [
       "array([[2, 6],\n",
       "       [4, 8],\n",
       "       [2, 9]])"
      ]
     },
     "execution_count": 7,
     "metadata": {},
     "output_type": "execute_result"
    }
   ],
   "source": [
    "array.reshape(3,2)"
   ]
  },
  {
   "cell_type": "markdown",
   "id": "b565f06b",
   "metadata": {},
   "source": [
    "#array.reshape(4,2)    #cannot reshape array of size 6 into shape (4,2)"
   ]
  },
  {
   "cell_type": "code",
   "execution_count": 9,
   "id": "6f085396",
   "metadata": {},
   "outputs": [
    {
     "data": {
      "text/plain": [
       "array([[2, 6, 4],\n",
       "       [8, 2, 9]])"
      ]
     },
     "execution_count": 9,
     "metadata": {},
     "output_type": "execute_result"
    }
   ],
   "source": [
    "array.reshape(2,-2333)"
   ]
  },
  {
   "cell_type": "code",
   "execution_count": 10,
   "id": "24935351",
   "metadata": {},
   "outputs": [
    {
     "data": {
      "text/plain": [
       "array([[2, 8],\n",
       "       [6, 2],\n",
       "       [4, 9]])"
      ]
     },
     "execution_count": 10,
     "metadata": {},
     "output_type": "execute_result"
    }
   ],
   "source": [
    "array.T"
   ]
  },
  {
   "cell_type": "code",
   "execution_count": 11,
   "id": "b5ade02a",
   "metadata": {},
   "outputs": [
    {
     "data": {
      "text/plain": [
       "array([[2, 6, 4],\n",
       "       [8, 2, 9]])"
      ]
     },
     "execution_count": 11,
     "metadata": {},
     "output_type": "execute_result"
    }
   ],
   "source": [
    "array"
   ]
  },
  {
   "cell_type": "markdown",
   "id": "910aea4e",
   "metadata": {},
   "source": [
    "# Flattening the arrays\n",
    "Flattening array means converting a multidimensional array into a 1D array.\n",
    "\n",
    "We can use reshape(-1) to do this."
   ]
  },
  {
   "cell_type": "code",
   "execution_count": 12,
   "id": "8c6423bc",
   "metadata": {},
   "outputs": [
    {
     "data": {
      "text/plain": [
       "array([2, 6, 4, 8, 2, 9])"
      ]
     },
     "execution_count": 12,
     "metadata": {},
     "output_type": "execute_result"
    }
   ],
   "source": [
    "# flatten -- convert data into 1 D\n",
    "array.flatten()"
   ]
  },
  {
   "cell_type": "code",
   "execution_count": 13,
   "id": "413d6763",
   "metadata": {},
   "outputs": [],
   "source": [
    "arr1 = np.array([1,3,4,5])"
   ]
  },
  {
   "cell_type": "code",
   "execution_count": 15,
   "id": "1bc23eb4",
   "metadata": {},
   "outputs": [
    {
     "data": {
      "text/plain": [
       "array([1, 3, 4, 5])"
      ]
     },
     "execution_count": 15,
     "metadata": {},
     "output_type": "execute_result"
    }
   ],
   "source": [
    "arr1"
   ]
  },
  {
   "cell_type": "code",
   "execution_count": 16,
   "id": "ec99c46c",
   "metadata": {},
   "outputs": [
    {
     "data": {
      "text/plain": [
       "array([[1],\n",
       "       [3],\n",
       "       [4],\n",
       "       [5]])"
      ]
     },
     "execution_count": 16,
     "metadata": {},
     "output_type": "execute_result"
    }
   ],
   "source": [
    "np.expand_dims(arr1 , axis = 1)  # changed dim to 2 by column"
   ]
  },
  {
   "cell_type": "code",
   "execution_count": 17,
   "id": "ac5e2852",
   "metadata": {},
   "outputs": [
    {
     "data": {
      "text/plain": [
       "array([[1, 3, 4, 5]])"
      ]
     },
     "execution_count": 17,
     "metadata": {},
     "output_type": "execute_result"
    }
   ],
   "source": [
    "np.expand_dims(arr1 , axis = 0) "
   ]
  },
  {
   "cell_type": "code",
   "execution_count": 20,
   "id": "a728ff03",
   "metadata": {},
   "outputs": [
    {
     "data": {
      "text/plain": [
       "array([1, 3, 4, 5])"
      ]
     },
     "execution_count": 20,
     "metadata": {},
     "output_type": "execute_result"
    }
   ],
   "source": [
    "np.squeeze(arr1)"
   ]
  },
  {
   "cell_type": "code",
   "execution_count": 21,
   "id": "4cdd3715",
   "metadata": {},
   "outputs": [],
   "source": [
    "data = np.array([[1],[2],[3]])"
   ]
  },
  {
   "cell_type": "code",
   "execution_count": 22,
   "id": "22579ddf",
   "metadata": {},
   "outputs": [
    {
     "data": {
      "text/plain": [
       "array([[1],\n",
       "       [2],\n",
       "       [3]])"
      ]
     },
     "execution_count": 22,
     "metadata": {},
     "output_type": "execute_result"
    }
   ],
   "source": [
    "data"
   ]
  },
  {
   "cell_type": "code",
   "execution_count": 23,
   "id": "49384e81",
   "metadata": {},
   "outputs": [
    {
     "data": {
      "text/plain": [
       "array([1, 2, 3])"
      ]
     },
     "execution_count": 23,
     "metadata": {},
     "output_type": "execute_result"
    }
   ],
   "source": [
    "np.squeeze(data)"
   ]
  },
  {
   "cell_type": "code",
   "execution_count": 24,
   "id": "288bd7e1",
   "metadata": {},
   "outputs": [
    {
     "data": {
      "text/plain": [
       "array([1, 1, 1, 3, 3, 3, 4, 4, 4, 5, 5, 5])"
      ]
     },
     "execution_count": 24,
     "metadata": {},
     "output_type": "execute_result"
    }
   ],
   "source": [
    "# repeat element  repeat( array_name ,value)\n",
    "np.repeat(arr1 ,3)"
   ]
  },
  {
   "cell_type": "code",
   "execution_count": 29,
   "id": "3fc287d6",
   "metadata": {},
   "outputs": [
    {
     "data": {
      "text/plain": [
       "array([1, 3, 4, 5])"
      ]
     },
     "execution_count": 29,
     "metadata": {},
     "output_type": "execute_result"
    }
   ],
   "source": [
    "arr1"
   ]
  },
  {
   "cell_type": "code",
   "execution_count": 28,
   "id": "22adec78",
   "metadata": {},
   "outputs": [
    {
     "data": {
      "text/plain": [
       "array([4, 5, 1, 3])"
      ]
     },
     "execution_count": 28,
     "metadata": {},
     "output_type": "execute_result"
    }
   ],
   "source": [
    "# roll    it roll the array    roll(array_name , value)\n",
    "np.roll(arr1,2)\n"
   ]
  },
  {
   "cell_type": "code",
   "execution_count": 30,
   "id": "669ba037",
   "metadata": {},
   "outputs": [
    {
     "data": {
      "text/plain": [
       "array([[1, 0, 0, 0],\n",
       "       [0, 3, 0, 0],\n",
       "       [0, 0, 4, 0],\n",
       "       [0, 0, 0, 5]])"
      ]
     },
     "execution_count": 30,
     "metadata": {},
     "output_type": "execute_result"
    }
   ],
   "source": [
    "# diag   put data in diagonal of matrix\n",
    "np.diag(arr1)"
   ]
  },
  {
   "cell_type": "code",
   "execution_count": 31,
   "id": "f935ccf4",
   "metadata": {},
   "outputs": [],
   "source": [
    "# Binary OPeration \n",
    "arr2 = np.random.randint(1,10,(3,4))"
   ]
  },
  {
   "cell_type": "code",
   "execution_count": 32,
   "id": "870deef3",
   "metadata": {},
   "outputs": [
    {
     "data": {
      "text/plain": [
       "array([[9, 5, 4, 3],\n",
       "       [1, 6, 2, 4],\n",
       "       [5, 3, 3, 9]])"
      ]
     },
     "execution_count": 32,
     "metadata": {},
     "output_type": "execute_result"
    }
   ],
   "source": [
    "arr2"
   ]
  },
  {
   "cell_type": "code",
   "execution_count": 33,
   "id": "2a06f049",
   "metadata": {},
   "outputs": [],
   "source": [
    "arr3 = np.random.randint(1,10,(3,4))"
   ]
  },
  {
   "cell_type": "code",
   "execution_count": 34,
   "id": "3c702e9f",
   "metadata": {},
   "outputs": [
    {
     "data": {
      "text/plain": [
       "array([[5, 9, 3, 6],\n",
       "       [9, 3, 2, 4],\n",
       "       [2, 7, 8, 1]])"
      ]
     },
     "execution_count": 34,
     "metadata": {},
     "output_type": "execute_result"
    }
   ],
   "source": [
    "arr3"
   ]
  },
  {
   "cell_type": "code",
   "execution_count": 35,
   "id": "44689dfb",
   "metadata": {},
   "outputs": [
    {
     "data": {
      "text/plain": [
       "array([[14, 14,  7,  9],\n",
       "       [10,  9,  4,  8],\n",
       "       [ 7, 10, 11, 10]])"
      ]
     },
     "execution_count": 35,
     "metadata": {},
     "output_type": "execute_result"
    }
   ],
   "source": [
    "arr2 + arr3"
   ]
  },
  {
   "cell_type": "code",
   "execution_count": 36,
   "id": "d2953247",
   "metadata": {},
   "outputs": [
    {
     "data": {
      "text/plain": [
       "array([[ 4, -4,  1, -3],\n",
       "       [-8,  3,  0,  0],\n",
       "       [ 3, -4, -5,  8]])"
      ]
     },
     "execution_count": 36,
     "metadata": {},
     "output_type": "execute_result"
    }
   ],
   "source": [
    "arr2 - arr3"
   ]
  },
  {
   "cell_type": "code",
   "execution_count": 37,
   "id": "4be69d0e",
   "metadata": {},
   "outputs": [
    {
     "data": {
      "text/plain": [
       "array([[45, 45, 12, 18],\n",
       "       [ 9, 18,  4, 16],\n",
       "       [10, 21, 24,  9]])"
      ]
     },
     "execution_count": 37,
     "metadata": {},
     "output_type": "execute_result"
    }
   ],
   "source": [
    "arr2 * arr3"
   ]
  },
  {
   "cell_type": "code",
   "execution_count": 38,
   "id": "115eb4d8",
   "metadata": {},
   "outputs": [
    {
     "data": {
      "text/plain": [
       "array([[1.8       , 0.55555556, 1.33333333, 0.5       ],\n",
       "       [0.11111111, 2.        , 1.        , 1.        ],\n",
       "       [2.5       , 0.42857143, 0.375     , 9.        ]])"
      ]
     },
     "execution_count": 38,
     "metadata": {},
     "output_type": "execute_result"
    }
   ],
   "source": [
    "arr2/arr3"
   ]
  },
  {
   "cell_type": "code",
   "execution_count": 39,
   "id": "72fb89f5",
   "metadata": {},
   "outputs": [
    {
     "data": {
      "text/plain": [
       "array([[4, 5, 1, 3],\n",
       "       [1, 0, 0, 0],\n",
       "       [1, 3, 3, 0]])"
      ]
     },
     "execution_count": 39,
     "metadata": {},
     "output_type": "execute_result"
    }
   ],
   "source": [
    "# remainder operation\n",
    "arr2% arr3"
   ]
  },
  {
   "cell_type": "code",
   "execution_count": 40,
   "id": "629d2296",
   "metadata": {},
   "outputs": [
    {
     "data": {
      "text/plain": [
       "array([[  59049, 1953125,      64,     729],\n",
       "       [      1,     216,       4,     256],\n",
       "       [     25,    2187,    6561,       9]])"
      ]
     },
     "execution_count": 40,
     "metadata": {},
     "output_type": "execute_result"
    }
   ],
   "source": [
    "# power\n",
    "arr2** arr3"
   ]
  },
  {
   "cell_type": "code",
   "execution_count": 41,
   "id": "e97862d4",
   "metadata": {},
   "outputs": [
    {
     "data": {
      "text/plain": [
       "array([[1, 1, 0, 2],\n",
       "       [1, 2, 2, 4],\n",
       "       [0, 3, 0, 1]])"
      ]
     },
     "execution_count": 41,
     "metadata": {},
     "output_type": "execute_result"
    }
   ],
   "source": [
    "# and operations\n",
    "arr2& arr3"
   ]
  },
  {
   "cell_type": "code",
   "execution_count": 42,
   "id": "253c3328",
   "metadata": {},
   "outputs": [
    {
     "data": {
      "text/plain": [
       "array([[13, 13,  7,  7],\n",
       "       [ 9,  7,  2,  4],\n",
       "       [ 7,  7, 11,  9]])"
      ]
     },
     "execution_count": 42,
     "metadata": {},
     "output_type": "execute_result"
    }
   ],
   "source": [
    "arr2 | arr3"
   ]
  },
  {
   "cell_type": "code",
   "execution_count": 43,
   "id": "5d5c11d8",
   "metadata": {},
   "outputs": [
    {
     "data": {
      "text/plain": [
       "array([[-9, -5, -4, -3],\n",
       "       [-1, -6, -2, -4],\n",
       "       [-5, -3, -3, -9]])"
      ]
     },
     "execution_count": 43,
     "metadata": {},
     "output_type": "execute_result"
    }
   ],
   "source": [
    "# negate operation \n",
    "-arr2"
   ]
  },
  {
   "cell_type": "code",
   "execution_count": 44,
   "id": "b752fa69",
   "metadata": {},
   "outputs": [
    {
     "data": {
      "text/plain": [
       "array([[ True, False,  True, False],\n",
       "       [False,  True, False, False],\n",
       "       [ True, False, False,  True]])"
      ]
     },
     "execution_count": 44,
     "metadata": {},
     "output_type": "execute_result"
    }
   ],
   "source": [
    "arr2>arr3"
   ]
  },
  {
   "cell_type": "markdown",
   "id": "37d67824",
   "metadata": {},
   "source": [
    "# String function"
   ]
  },
  {
   "cell_type": "code",
   "execution_count": 46,
   "id": "90e3fc36",
   "metadata": {},
   "outputs": [],
   "source": [
    "x = np.array(['pratima','jadon'])"
   ]
  },
  {
   "cell_type": "code",
   "execution_count": 47,
   "id": "0d5a73ca",
   "metadata": {},
   "outputs": [
    {
     "data": {
      "text/plain": [
       "array(['pratima', 'jadon'], dtype='<U7')"
      ]
     },
     "execution_count": 47,
     "metadata": {},
     "output_type": "execute_result"
    }
   ],
   "source": [
    "x"
   ]
  },
  {
   "cell_type": "code",
   "execution_count": 48,
   "id": "c5959f97",
   "metadata": {},
   "outputs": [
    {
     "data": {
      "text/plain": [
       "array(['PRATIMA', 'JADON'], dtype='<U7')"
      ]
     },
     "execution_count": 48,
     "metadata": {},
     "output_type": "execute_result"
    }
   ],
   "source": [
    "# upper\n",
    "np.char.upper(x)"
   ]
  },
  {
   "cell_type": "code",
   "execution_count": 49,
   "id": "377a97b9",
   "metadata": {},
   "outputs": [
    {
     "data": {
      "text/plain": [
       "array(['Pratima', 'Jadon'], dtype='<U7')"
      ]
     },
     "execution_count": 49,
     "metadata": {},
     "output_type": "execute_result"
    }
   ],
   "source": [
    "# title \n",
    "np.char.title(x)"
   ]
  },
  {
   "cell_type": "code",
   "execution_count": 51,
   "id": "5468d385",
   "metadata": {},
   "outputs": [
    {
     "data": {
      "text/plain": [
       "array(['Pratima', 'Jadon'], dtype='<U7')"
      ]
     },
     "execution_count": 51,
     "metadata": {},
     "output_type": "execute_result"
    }
   ],
   "source": [
    "np.char.capitalize(x)"
   ]
  },
  {
   "cell_type": "code",
   "execution_count": 52,
   "id": "1de39513",
   "metadata": {},
   "outputs": [
    {
     "data": {
      "text/plain": [
       "array([[9, 5, 4, 3],\n",
       "       [1, 6, 2, 4],\n",
       "       [5, 3, 3, 9]])"
      ]
     },
     "execution_count": 52,
     "metadata": {},
     "output_type": "execute_result"
    }
   ],
   "source": [
    "# Mathematical  function\n",
    "arr2"
   ]
  },
  {
   "cell_type": "code",
   "execution_count": 53,
   "id": "131e41e7",
   "metadata": {},
   "outputs": [
    {
     "data": {
      "text/plain": [
       "array([[5, 9, 3, 6],\n",
       "       [9, 3, 2, 4],\n",
       "       [2, 7, 8, 1]])"
      ]
     },
     "execution_count": 53,
     "metadata": {},
     "output_type": "execute_result"
    }
   ],
   "source": [
    "arr3"
   ]
  },
  {
   "cell_type": "code",
   "execution_count": 54,
   "id": "35a6c616",
   "metadata": {},
   "outputs": [
    {
     "data": {
      "text/plain": [
       "array([[ 0.41211849, -0.95892427, -0.7568025 ,  0.14112001],\n",
       "       [ 0.84147098, -0.2794155 ,  0.90929743, -0.7568025 ],\n",
       "       [-0.95892427,  0.14112001,  0.14112001,  0.41211849]])"
      ]
     },
     "execution_count": 54,
     "metadata": {},
     "output_type": "execute_result"
    }
   ],
   "source": [
    "# sinosudal value\n",
    "np.sin(arr2)"
   ]
  },
  {
   "cell_type": "code",
   "execution_count": 55,
   "id": "35e7d4c7",
   "metadata": {},
   "outputs": [
    {
     "data": {
      "text/plain": [
       "array([[-0.91113026,  0.28366219, -0.65364362, -0.9899925 ],\n",
       "       [ 0.54030231,  0.96017029, -0.41614684, -0.65364362],\n",
       "       [ 0.28366219, -0.9899925 , -0.9899925 , -0.91113026]])"
      ]
     },
     "execution_count": 55,
     "metadata": {},
     "output_type": "execute_result"
    }
   ],
   "source": [
    "np.cos(arr2)"
   ]
  },
  {
   "cell_type": "code",
   "execution_count": 56,
   "id": "37498e31",
   "metadata": {},
   "outputs": [
    {
     "data": {
      "text/plain": [
       "array([[-0.45231566, -3.38051501,  1.15782128, -0.14254654],\n",
       "       [ 1.55740772, -0.29100619, -2.18503986,  1.15782128],\n",
       "       [-3.38051501, -0.14254654, -0.14254654, -0.45231566]])"
      ]
     },
     "execution_count": 56,
     "metadata": {},
     "output_type": "execute_result"
    }
   ],
   "source": [
    "np.tan(arr2)"
   ]
  },
  {
   "cell_type": "code",
   "execution_count": 58,
   "id": "32fb1856",
   "metadata": {},
   "outputs": [
    {
     "data": {
      "text/plain": [
       "array([[0.95424251, 0.69897   , 0.60205999, 0.47712125],\n",
       "       [0.        , 0.77815125, 0.30103   , 0.60205999],\n",
       "       [0.69897   , 0.47712125, 0.47712125, 0.95424251]])"
      ]
     },
     "execution_count": 58,
     "metadata": {},
     "output_type": "execute_result"
    }
   ],
   "source": [
    "np.log10(arr2)"
   ]
  },
  {
   "cell_type": "code",
   "execution_count": 59,
   "id": "8a90a9b9",
   "metadata": {},
   "outputs": [
    {
     "data": {
      "text/plain": [
       "array([[3.        , 2.23606798, 2.        , 1.73205081],\n",
       "       [1.        , 2.44948974, 1.41421356, 2.        ],\n",
       "       [2.23606798, 1.73205081, 1.73205081, 3.        ]])"
      ]
     },
     "execution_count": 59,
     "metadata": {},
     "output_type": "execute_result"
    }
   ],
   "source": [
    "np.sqrt(arr2)"
   ]
  },
  {
   "cell_type": "code",
   "execution_count": 61,
   "id": "fe92574e",
   "metadata": {},
   "outputs": [
    {
     "data": {
      "text/plain": [
       "array([[81, 25, 16,  9],\n",
       "       [ 1, 36,  4, 16],\n",
       "       [25,  9,  9, 81]], dtype=int32)"
      ]
     },
     "execution_count": 61,
     "metadata": {},
     "output_type": "execute_result"
    }
   ],
   "source": [
    "np.power(arr2,2)"
   ]
  },
  {
   "cell_type": "code",
   "execution_count": 62,
   "id": "436fd18f",
   "metadata": {},
   "outputs": [
    {
     "data": {
      "text/plain": [
       "4.5"
      ]
     },
     "execution_count": 62,
     "metadata": {},
     "output_type": "execute_result"
    }
   ],
   "source": [
    "np.mean(arr2)"
   ]
  },
  {
   "cell_type": "code",
   "execution_count": 64,
   "id": "3eebd659",
   "metadata": {},
   "outputs": [
    {
     "data": {
      "text/plain": [
       "4.0"
      ]
     },
     "execution_count": 64,
     "metadata": {},
     "output_type": "execute_result"
    }
   ],
   "source": [
    "np.median(arr2)"
   ]
  },
  {
   "cell_type": "code",
   "execution_count": 65,
   "id": "46c508e8",
   "metadata": {},
   "outputs": [
    {
     "data": {
      "text/plain": [
       "2.3979157616563596"
      ]
     },
     "execution_count": 65,
     "metadata": {},
     "output_type": "execute_result"
    }
   ],
   "source": [
    "np.std(arr2)"
   ]
  },
  {
   "cell_type": "code",
   "execution_count": 66,
   "id": "de2a2fec",
   "metadata": {},
   "outputs": [
    {
     "data": {
      "text/plain": [
       "5.75"
      ]
     },
     "execution_count": 66,
     "metadata": {},
     "output_type": "execute_result"
    }
   ],
   "source": [
    "np.var(arr2)"
   ]
  },
  {
   "cell_type": "code",
   "execution_count": 67,
   "id": "841d12fa",
   "metadata": {},
   "outputs": [
    {
     "data": {
      "text/plain": [
       "1"
      ]
     },
     "execution_count": 67,
     "metadata": {},
     "output_type": "execute_result"
    }
   ],
   "source": [
    "np.min(arr2)"
   ]
  },
  {
   "cell_type": "code",
   "execution_count": 68,
   "id": "58fd504e",
   "metadata": {},
   "outputs": [
    {
     "data": {
      "text/plain": [
       "9"
      ]
     },
     "execution_count": 68,
     "metadata": {},
     "output_type": "execute_result"
    }
   ],
   "source": [
    "np.max(arr2)"
   ]
  },
  {
   "cell_type": "markdown",
   "id": "14c186fd",
   "metadata": {},
   "source": [
    "Why is NumPy Faster Than Lists?\n",
    "NumPy arrays are stored at one continuous place in memory unlike lists, so processes can access and manipulate them very efficiently.\n",
    "\n",
    "This behavior is called locality of reference in computer science.\n",
    "\n",
    "This is the main reason why NumPy is faster than lists. Also it is optimized to work with latest CPU architectures."
   ]
  },
  {
   "cell_type": "markdown",
   "id": "46203227",
   "metadata": {},
   "source": [
    "Data Types in NumPy\n",
    "NumPy has some extra data types, and refer to data types with one character, like i for integers, u for unsigned integers etc.\n",
    "\n",
    "Below is a list of all data types in NumPy and the characters used to represent them.\n",
    "\n",
    "i - integer\n",
    "b - boolean\n",
    "u - unsigned integer\n",
    "f - float\n",
    "c - complex float\n",
    "m - timedelta\n",
    "M - datetime\n",
    "O - object\n",
    "S - string\n",
    "U - unicode string\n",
    "V - fixed chunk of memory for other type ( void )"
   ]
  },
  {
   "cell_type": "markdown",
   "id": "61a7f9ad",
   "metadata": {},
   "source": [
    "# The Difference Between Copy and View\n",
    "The main difference between a copy and a view of an array is that the copy is a new array, and the view is just a view of the original array.\n",
    "\n",
    "The copy owns the data and any changes made to the copy will not affect original array, and any changes made to the original array will not affect the copy.\n",
    "\n",
    "The view does not own the data and any changes made to the view will affect the original array, and any changes made to the original array will affect the view.\n",
    "\n"
   ]
  },
  {
   "cell_type": "code",
   "execution_count": 69,
   "id": "5cf811a0",
   "metadata": {},
   "outputs": [
    {
     "name": "stdout",
     "output_type": "stream",
     "text": [
      "[42  2  3  4  5]\n",
      "[1 2 3 4 5]\n"
     ]
    }
   ],
   "source": [
    "# copy \n",
    "import numpy as np\n",
    "\n",
    "arr = np.array([1, 2, 3, 4, 5])\n",
    "x = arr.copy()\n",
    "arr[0] = 42\n",
    "\n",
    "print(arr)\n",
    "print(x)"
   ]
  },
  {
   "cell_type": "code",
   "execution_count": 71,
   "id": "a16942b6",
   "metadata": {},
   "outputs": [
    {
     "name": "stdout",
     "output_type": "stream",
     "text": [
      "[42  2  3  4  5]\n",
      "[42  2  3  4  5]\n"
     ]
    }
   ],
   "source": [
    "# view\n",
    "import numpy as np\n",
    "\n",
    "arr = np.array([1, 2, 3, 4, 5])\n",
    "x = arr.view()\n",
    "arr[0] = 42\n",
    "\n",
    "print(arr)\n",
    "print(x)"
   ]
  },
  {
   "cell_type": "markdown",
   "id": "abf0cc08",
   "metadata": {},
   "source": [
    "# Joining NumPy Arrays\n",
    "Joining means putting contents of two or more arrays in a single array.\n",
    "concatenate() function"
   ]
  },
  {
   "cell_type": "code",
   "execution_count": 72,
   "id": "7e5f5ca0",
   "metadata": {},
   "outputs": [
    {
     "data": {
      "text/plain": [
       "array([[5, 9, 3, 6],\n",
       "       [9, 3, 2, 4],\n",
       "       [2, 7, 8, 1],\n",
       "       [9, 5, 4, 3],\n",
       "       [1, 6, 2, 4],\n",
       "       [5, 3, 3, 9]])"
      ]
     },
     "execution_count": 72,
     "metadata": {},
     "output_type": "execute_result"
    }
   ],
   "source": [
    "np.concatenate((arr3, arr2))"
   ]
  },
  {
   "cell_type": "markdown",
   "id": "9a9c4c13",
   "metadata": {},
   "source": [
    "We pass a sequence of arrays that we want to join to the stack() method along with the axis. If axis is not explicitly passed it is taken as 0."
   ]
  },
  {
   "cell_type": "code",
   "execution_count": 75,
   "id": "3015b1bd",
   "metadata": {},
   "outputs": [
    {
     "data": {
      "text/plain": [
       "array([[[5, 9, 3, 6],\n",
       "        [9, 5, 4, 3]],\n",
       "\n",
       "       [[9, 3, 2, 4],\n",
       "        [1, 6, 2, 4]],\n",
       "\n",
       "       [[2, 7, 8, 1],\n",
       "        [5, 3, 3, 9]]])"
      ]
     },
     "execution_count": 75,
     "metadata": {},
     "output_type": "execute_result"
    }
   ],
   "source": [
    "np.stack((arr3 ,arr2 ),axis =1)"
   ]
  },
  {
   "cell_type": "markdown",
   "id": "b8f727be",
   "metadata": {},
   "source": [
    "# Stacking Along Rows\n",
    "\n",
    "\n",
    "NumPy provides a helper function: hstack() to stack along rows.\n",
    "\n",
    "\n",
    "\n",
    "# Stacking Along Columns\n",
    "\n",
    "\n",
    "NumPy provides a helper function: vstack()  to stack along columns.\n",
    "\n",
    "\n",
    "# Stacking Along Height (depth)\n",
    "\n",
    "\n",
    "NumPy provides a helper function: dstack() to stack along height, which is the same as depth\n",
    "\n"
   ]
  },
  {
   "cell_type": "markdown",
   "id": "301f86b8",
   "metadata": {},
   "source": [
    "#  Splitting NumPy Arrays\n",
    "Splitting is reverse operation of Joining.\n",
    "\n",
    "Joining merges multiple arrays into one and Splitting breaks one array into multiple.\n",
    "\n",
    "We use array_split() for splitting arrays, we pass it the array we want to split and the number of splits."
   ]
  },
  {
   "cell_type": "code",
   "execution_count": 76,
   "id": "38db6625",
   "metadata": {},
   "outputs": [
    {
     "data": {
      "text/plain": [
       "[array([[9, 5, 4, 3]]), array([[1, 6, 2, 4]]), array([[5, 3, 3, 9]])]"
      ]
     },
     "execution_count": 76,
     "metadata": {},
     "output_type": "execute_result"
    }
   ],
   "source": [
    "np.array_split(arr2, 3)"
   ]
  },
  {
   "cell_type": "code",
   "execution_count": 77,
   "id": "3b108a80",
   "metadata": {},
   "outputs": [
    {
     "data": {
      "text/plain": [
       "array([[9, 5, 4, 3],\n",
       "       [1, 6, 2, 4],\n",
       "       [5, 3, 3, 9]])"
      ]
     },
     "execution_count": 77,
     "metadata": {},
     "output_type": "execute_result"
    }
   ],
   "source": [
    "arr2"
   ]
  },
  {
   "cell_type": "code",
   "execution_count": 78,
   "id": "c6d454d1",
   "metadata": {},
   "outputs": [
    {
     "data": {
      "text/plain": [
       "[array([[9, 5, 4, 3],\n",
       "        [1, 6, 2, 4]]),\n",
       " array([[5, 3, 3, 9]])]"
      ]
     },
     "execution_count": 78,
     "metadata": {},
     "output_type": "execute_result"
    }
   ],
   "source": [
    "np.array_split(arr2, 2)"
   ]
  },
  {
   "cell_type": "markdown",
   "id": "b3dd7ce7",
   "metadata": {},
   "source": [
    "# Searching Arrays\n",
    "You can search an array for a certain value, and return the indexes that get a match.\n",
    "\n",
    "To search an array, use the where() method."
   ]
  },
  {
   "cell_type": "code",
   "execution_count": 83,
   "id": "11d5c294",
   "metadata": {},
   "outputs": [
    {
     "data": {
      "text/plain": [
       "(array([3, 5, 6], dtype=int64),)"
      ]
     },
     "execution_count": 83,
     "metadata": {},
     "output_type": "execute_result"
    }
   ],
   "source": [
    "arr = np.array([1, 2, 3, 4, 5, 4, 4])\n",
    "\n",
    "np.where(arr == 4)\n",
    "# Which means that the value 4 is present at index 3, 5, and 6.\n"
   ]
  },
  {
   "cell_type": "markdown",
   "id": "ecc549c5",
   "metadata": {},
   "source": [
    "searchsorted() which performs a binary search in the array, and returns the index where the specified value would be inserted to maintain the search order.\n",
    "\n",
    "The searchsorted() method is assumed to be used on sorted arrays."
   ]
  },
  {
   "cell_type": "code",
   "execution_count": 85,
   "id": "31cee805",
   "metadata": {},
   "outputs": [
    {
     "data": {
      "text/plain": [
       "7"
      ]
     },
     "execution_count": 85,
     "metadata": {},
     "output_type": "execute_result"
    }
   ],
   "source": [
    "np.searchsorted(arr, 7)"
   ]
  },
  {
   "cell_type": "markdown",
   "id": "d1dd2d6d",
   "metadata": {},
   "source": [
    "Search From the Right Side\n",
    "By default the left most index is returned, but we can give side='right' to return the right most index instead."
   ]
  },
  {
   "cell_type": "code",
   "execution_count": 87,
   "id": "502ebacc",
   "metadata": {},
   "outputs": [
    {
     "data": {
      "text/plain": [
       "7"
      ]
     },
     "execution_count": 87,
     "metadata": {},
     "output_type": "execute_result"
    }
   ],
   "source": [
    "np.searchsorted(arr ,5 ,side = 'right')"
   ]
  },
  {
   "cell_type": "code",
   "execution_count": 89,
   "id": "4932d9bf",
   "metadata": {},
   "outputs": [
    {
     "name": "stdout",
     "output_type": "stream",
     "text": [
      "[0 1 2 3]\n"
     ]
    }
   ],
   "source": [
    "# The NumPy ndarray object has a function called sort(), that will sort a specified array.\n",
    "\n",
    "arr = np.array([3, 2, 0, 1])\n",
    "\n",
    "print(np.sort(arr))"
   ]
  },
  {
   "cell_type": "markdown",
   "id": "f57fe8b8",
   "metadata": {},
   "source": [
    "Getting some elements out of an existing array and creating a new array out of them is called filtering."
   ]
  },
  {
   "cell_type": "code",
   "execution_count": null,
   "id": "306c8fa6",
   "metadata": {},
   "outputs": [],
   "source": []
  }
 ],
 "metadata": {
  "kernelspec": {
   "display_name": "Python 3 (ipykernel)",
   "language": "python",
   "name": "python3"
  },
  "language_info": {
   "codemirror_mode": {
    "name": "ipython",
    "version": 3
   },
   "file_extension": ".py",
   "mimetype": "text/x-python",
   "name": "python",
   "nbconvert_exporter": "python",
   "pygments_lexer": "ipython3",
   "version": "3.10.6"
  }
 },
 "nbformat": 4,
 "nbformat_minor": 5
}
